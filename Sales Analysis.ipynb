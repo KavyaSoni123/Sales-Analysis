{
 "cells": [
  {
   "cell_type": "markdown",
   "id": "07d52e52-20ca-4df1-b7b9-0a1c49da6543",
   "metadata": {},
   "source": [
    "## Sales Analysis"
   ]
  },
  {
   "cell_type": "code",
   "execution_count": 2,
   "id": "dc558f23-8efd-41d6-8816-76bbb764f3ee",
   "metadata": {},
   "outputs": [],
   "source": [
    "#importing necessary libraries\n",
    "import pandas as pd\n",
    "import matplotlib.pyplot as plt\n",
    "import os\n",
    "import warnings\n",
    "warnings.filterwarnings('ignore')"
   ]
  },
  {
   "cell_type": "markdown",
   "id": "abaeaa51-0a4c-4b55-bfa4-97a8e6d287b9",
   "metadata": {},
   "source": [
    "#### Merging 12 months of sales data into a single file"
   ]
  },
  {
   "cell_type": "code",
   "execution_count": 6,
   "id": "67598f8a-0d8e-474b-9d7d-e928328c72ab",
   "metadata": {},
   "outputs": [],
   "source": [
    "final_data = pd.DataFrame()\n",
    "files = [file for file in os.listdir('../Sales Analysis/') if file.endswith('.csv')]\n",
    "for file in files:\n",
    "    file_path = os.path.join('../Sales Analysis/', file)\n",
    "    df = pd.read_csv(file_path)\n",
    "    final_data = pd.concat([final_data,df])\n",
    "final_data.to_csv('final_data.csv',index=False)"
   ]
  },
  {
   "cell_type": "markdown",
   "id": "b783e482-f3f6-44ca-a0d8-c65c2288d3be",
   "metadata": {},
   "source": [
    "#### Reading updated dataframe"
   ]
  },
  {
   "cell_type": "code",
   "execution_count": 247,
   "id": "222a7188-c904-4001-9bfe-9c89542ecd6f",
   "metadata": {},
   "outputs": [],
   "source": [
    "df = pd.read_csv('./final_data.csv')"
   ]
  },
  {
   "cell_type": "code",
   "execution_count": 248,
   "id": "8fa6437c-58f5-4924-9001-142ed5468ff3",
   "metadata": {},
   "outputs": [
    {
     "data": {
      "text/html": [
       "<div>\n",
       "<style scoped>\n",
       "    .dataframe tbody tr th:only-of-type {\n",
       "        vertical-align: middle;\n",
       "    }\n",
       "\n",
       "    .dataframe tbody tr th {\n",
       "        vertical-align: top;\n",
       "    }\n",
       "\n",
       "    .dataframe thead th {\n",
       "        text-align: right;\n",
       "    }\n",
       "</style>\n",
       "<table border=\"1\" class=\"dataframe\">\n",
       "  <thead>\n",
       "    <tr style=\"text-align: right;\">\n",
       "      <th></th>\n",
       "      <th>Order ID</th>\n",
       "      <th>Product</th>\n",
       "      <th>Quantity Ordered</th>\n",
       "      <th>Price Each</th>\n",
       "      <th>Order Date</th>\n",
       "      <th>Purchase Address</th>\n",
       "    </tr>\n",
       "  </thead>\n",
       "  <tbody>\n",
       "    <tr>\n",
       "      <th>0</th>\n",
       "      <td>295665</td>\n",
       "      <td>Macbook Pro Laptop</td>\n",
       "      <td>1</td>\n",
       "      <td>1700</td>\n",
       "      <td>12/30/19 00:01</td>\n",
       "      <td>136 Church St, New York City, NY 10001</td>\n",
       "    </tr>\n",
       "    <tr>\n",
       "      <th>1</th>\n",
       "      <td>295666</td>\n",
       "      <td>LG Washing Machine</td>\n",
       "      <td>1</td>\n",
       "      <td>600.0</td>\n",
       "      <td>12/29/19 07:03</td>\n",
       "      <td>562 2nd St, New York City, NY 10001</td>\n",
       "    </tr>\n",
       "    <tr>\n",
       "      <th>2</th>\n",
       "      <td>295667</td>\n",
       "      <td>USB-C Charging Cable</td>\n",
       "      <td>1</td>\n",
       "      <td>11.95</td>\n",
       "      <td>12/12/19 18:21</td>\n",
       "      <td>277 Main St, New York City, NY 10001</td>\n",
       "    </tr>\n",
       "    <tr>\n",
       "      <th>3</th>\n",
       "      <td>295668</td>\n",
       "      <td>27in FHD Monitor</td>\n",
       "      <td>1</td>\n",
       "      <td>149.99</td>\n",
       "      <td>12/22/19 15:13</td>\n",
       "      <td>410 6th St, San Francisco, CA 94016</td>\n",
       "    </tr>\n",
       "    <tr>\n",
       "      <th>4</th>\n",
       "      <td>295669</td>\n",
       "      <td>USB-C Charging Cable</td>\n",
       "      <td>1</td>\n",
       "      <td>11.95</td>\n",
       "      <td>12/18/19 12:38</td>\n",
       "      <td>43 Hill St, Atlanta, GA 30301</td>\n",
       "    </tr>\n",
       "  </tbody>\n",
       "</table>\n",
       "</div>"
      ],
      "text/plain": [
       "  Order ID               Product Quantity Ordered Price Each      Order Date  \\\n",
       "0   295665    Macbook Pro Laptop                1       1700  12/30/19 00:01   \n",
       "1   295666    LG Washing Machine                1      600.0  12/29/19 07:03   \n",
       "2   295667  USB-C Charging Cable                1      11.95  12/12/19 18:21   \n",
       "3   295668      27in FHD Monitor                1     149.99  12/22/19 15:13   \n",
       "4   295669  USB-C Charging Cable                1      11.95  12/18/19 12:38   \n",
       "\n",
       "                         Purchase Address  \n",
       "0  136 Church St, New York City, NY 10001  \n",
       "1     562 2nd St, New York City, NY 10001  \n",
       "2    277 Main St, New York City, NY 10001  \n",
       "3     410 6th St, San Francisco, CA 94016  \n",
       "4           43 Hill St, Atlanta, GA 30301  "
      ]
     },
     "execution_count": 248,
     "metadata": {},
     "output_type": "execute_result"
    }
   ],
   "source": [
    "df.head()"
   ]
  },
  {
   "cell_type": "code",
   "execution_count": 249,
   "id": "b5ec41ad-5cde-4713-9b39-ad55f39ab979",
   "metadata": {},
   "outputs": [
    {
     "name": "stdout",
     "output_type": "stream",
     "text": [
      "<class 'pandas.core.frame.DataFrame'>\n",
      "RangeIndex: 186850 entries, 0 to 186849\n",
      "Data columns (total 6 columns):\n",
      " #   Column            Non-Null Count   Dtype \n",
      "---  ------            --------------   ----- \n",
      " 0   Order ID          186305 non-null  object\n",
      " 1   Product           186305 non-null  object\n",
      " 2   Quantity Ordered  186305 non-null  object\n",
      " 3   Price Each        186305 non-null  object\n",
      " 4   Order Date        186305 non-null  object\n",
      " 5   Purchase Address  186305 non-null  object\n",
      "dtypes: object(6)\n",
      "memory usage: 8.6+ MB\n"
     ]
    }
   ],
   "source": [
    "df.info()"
   ]
  },
  {
   "cell_type": "markdown",
   "id": "8ee15e6a-fec1-494d-8994-d64eaf14ffd6",
   "metadata": {},
   "source": [
    "## Cleaning Up Data"
   ]
  },
  {
   "cell_type": "code",
   "execution_count": 250,
   "id": "b7a49989-0536-48d7-8ac4-c2e50bfd47b4",
   "metadata": {},
   "outputs": [
    {
     "data": {
      "text/plain": [
       "Order ID            545\n",
       "Product             545\n",
       "Quantity Ordered    545\n",
       "Price Each          545\n",
       "Order Date          545\n",
       "Purchase Address    545\n",
       "dtype: int64"
      ]
     },
     "execution_count": 250,
     "metadata": {},
     "output_type": "execute_result"
    }
   ],
   "source": [
    "df.isnull().sum()"
   ]
  },
  {
   "cell_type": "code",
   "execution_count": 251,
   "id": "1f7d0ec2-8133-4f75-834c-77435c30eba5",
   "metadata": {},
   "outputs": [
    {
     "data": {
      "text/plain": [
       "186850"
      ]
     },
     "execution_count": 251,
     "metadata": {},
     "output_type": "execute_result"
    }
   ],
   "source": [
    "len(df)"
   ]
  },
  {
   "cell_type": "code",
   "execution_count": 252,
   "id": "4ad480ae-df96-4797-af76-8c97c212332d",
   "metadata": {},
   "outputs": [
    {
     "data": {
      "text/html": [
       "<div>\n",
       "<style scoped>\n",
       "    .dataframe tbody tr th:only-of-type {\n",
       "        vertical-align: middle;\n",
       "    }\n",
       "\n",
       "    .dataframe tbody tr th {\n",
       "        vertical-align: top;\n",
       "    }\n",
       "\n",
       "    .dataframe thead th {\n",
       "        text-align: right;\n",
       "    }\n",
       "</style>\n",
       "<table border=\"1\" class=\"dataframe\">\n",
       "  <thead>\n",
       "    <tr style=\"text-align: right;\">\n",
       "      <th></th>\n",
       "      <th>Order ID</th>\n",
       "      <th>Product</th>\n",
       "      <th>Quantity Ordered</th>\n",
       "      <th>Price Each</th>\n",
       "      <th>Order Date</th>\n",
       "      <th>Purchase Address</th>\n",
       "    </tr>\n",
       "  </thead>\n",
       "  <tbody>\n",
       "    <tr>\n",
       "      <th>264</th>\n",
       "      <td>NaN</td>\n",
       "      <td>NaN</td>\n",
       "      <td>NaN</td>\n",
       "      <td>NaN</td>\n",
       "      <td>NaN</td>\n",
       "      <td>NaN</td>\n",
       "    </tr>\n",
       "    <tr>\n",
       "      <th>648</th>\n",
       "      <td>NaN</td>\n",
       "      <td>NaN</td>\n",
       "      <td>NaN</td>\n",
       "      <td>NaN</td>\n",
       "      <td>NaN</td>\n",
       "      <td>NaN</td>\n",
       "    </tr>\n",
       "    <tr>\n",
       "      <th>680</th>\n",
       "      <td>NaN</td>\n",
       "      <td>NaN</td>\n",
       "      <td>NaN</td>\n",
       "      <td>NaN</td>\n",
       "      <td>NaN</td>\n",
       "      <td>NaN</td>\n",
       "    </tr>\n",
       "    <tr>\n",
       "      <th>1385</th>\n",
       "      <td>NaN</td>\n",
       "      <td>NaN</td>\n",
       "      <td>NaN</td>\n",
       "      <td>NaN</td>\n",
       "      <td>NaN</td>\n",
       "      <td>NaN</td>\n",
       "    </tr>\n",
       "    <tr>\n",
       "      <th>1495</th>\n",
       "      <td>NaN</td>\n",
       "      <td>NaN</td>\n",
       "      <td>NaN</td>\n",
       "      <td>NaN</td>\n",
       "      <td>NaN</td>\n",
       "      <td>NaN</td>\n",
       "    </tr>\n",
       "    <tr>\n",
       "      <th>...</th>\n",
       "      <td>...</td>\n",
       "      <td>...</td>\n",
       "      <td>...</td>\n",
       "      <td>...</td>\n",
       "      <td>...</td>\n",
       "      <td>...</td>\n",
       "    </tr>\n",
       "    <tr>\n",
       "      <th>185795</th>\n",
       "      <td>NaN</td>\n",
       "      <td>NaN</td>\n",
       "      <td>NaN</td>\n",
       "      <td>NaN</td>\n",
       "      <td>NaN</td>\n",
       "      <td>NaN</td>\n",
       "    </tr>\n",
       "    <tr>\n",
       "      <th>185868</th>\n",
       "      <td>NaN</td>\n",
       "      <td>NaN</td>\n",
       "      <td>NaN</td>\n",
       "      <td>NaN</td>\n",
       "      <td>NaN</td>\n",
       "      <td>NaN</td>\n",
       "    </tr>\n",
       "    <tr>\n",
       "      <th>185887</th>\n",
       "      <td>NaN</td>\n",
       "      <td>NaN</td>\n",
       "      <td>NaN</td>\n",
       "      <td>NaN</td>\n",
       "      <td>NaN</td>\n",
       "      <td>NaN</td>\n",
       "    </tr>\n",
       "    <tr>\n",
       "      <th>185960</th>\n",
       "      <td>NaN</td>\n",
       "      <td>NaN</td>\n",
       "      <td>NaN</td>\n",
       "      <td>NaN</td>\n",
       "      <td>NaN</td>\n",
       "      <td>NaN</td>\n",
       "    </tr>\n",
       "    <tr>\n",
       "      <th>186580</th>\n",
       "      <td>NaN</td>\n",
       "      <td>NaN</td>\n",
       "      <td>NaN</td>\n",
       "      <td>NaN</td>\n",
       "      <td>NaN</td>\n",
       "      <td>NaN</td>\n",
       "    </tr>\n",
       "  </tbody>\n",
       "</table>\n",
       "<p>545 rows × 6 columns</p>\n",
       "</div>"
      ],
      "text/plain": [
       "       Order ID Product Quantity Ordered Price Each Order Date  \\\n",
       "264         NaN     NaN              NaN        NaN        NaN   \n",
       "648         NaN     NaN              NaN        NaN        NaN   \n",
       "680         NaN     NaN              NaN        NaN        NaN   \n",
       "1385        NaN     NaN              NaN        NaN        NaN   \n",
       "1495        NaN     NaN              NaN        NaN        NaN   \n",
       "...         ...     ...              ...        ...        ...   \n",
       "185795      NaN     NaN              NaN        NaN        NaN   \n",
       "185868      NaN     NaN              NaN        NaN        NaN   \n",
       "185887      NaN     NaN              NaN        NaN        NaN   \n",
       "185960      NaN     NaN              NaN        NaN        NaN   \n",
       "186580      NaN     NaN              NaN        NaN        NaN   \n",
       "\n",
       "       Purchase Address  \n",
       "264                 NaN  \n",
       "648                 NaN  \n",
       "680                 NaN  \n",
       "1385                NaN  \n",
       "1495                NaN  \n",
       "...                 ...  \n",
       "185795              NaN  \n",
       "185868              NaN  \n",
       "185887              NaN  \n",
       "185960              NaN  \n",
       "186580              NaN  \n",
       "\n",
       "[545 rows x 6 columns]"
      ]
     },
     "execution_count": 252,
     "metadata": {},
     "output_type": "execute_result"
    }
   ],
   "source": [
    "# These are the rows which contain null values for each column\n",
    "df[df.isnull().all(axis=1)]"
   ]
  },
  {
   "cell_type": "markdown",
   "id": "b529920c-e5cd-44fa-9164-7f2357739fdb",
   "metadata": {},
   "source": [
    "#### Therefore we will have to drop these unnecessary rows"
   ]
  },
  {
   "cell_type": "code",
   "execution_count": 253,
   "id": "807ff92e-eee5-4b94-8110-12d6157991c2",
   "metadata": {},
   "outputs": [],
   "source": [
    "df = df.dropna(how='all')"
   ]
  },
  {
   "cell_type": "code",
   "execution_count": 254,
   "id": "304cf90b-0493-4237-8a10-732e7def441f",
   "metadata": {},
   "outputs": [
    {
     "data": {
      "text/html": [
       "<div>\n",
       "<style scoped>\n",
       "    .dataframe tbody tr th:only-of-type {\n",
       "        vertical-align: middle;\n",
       "    }\n",
       "\n",
       "    .dataframe tbody tr th {\n",
       "        vertical-align: top;\n",
       "    }\n",
       "\n",
       "    .dataframe thead th {\n",
       "        text-align: right;\n",
       "    }\n",
       "</style>\n",
       "<table border=\"1\" class=\"dataframe\">\n",
       "  <thead>\n",
       "    <tr style=\"text-align: right;\">\n",
       "      <th></th>\n",
       "      <th>Order ID</th>\n",
       "      <th>Product</th>\n",
       "      <th>Quantity Ordered</th>\n",
       "      <th>Price Each</th>\n",
       "      <th>Order Date</th>\n",
       "      <th>Purchase Address</th>\n",
       "    </tr>\n",
       "  </thead>\n",
       "  <tbody>\n",
       "    <tr>\n",
       "      <th>0</th>\n",
       "      <td>295665</td>\n",
       "      <td>Macbook Pro Laptop</td>\n",
       "      <td>1</td>\n",
       "      <td>1700</td>\n",
       "      <td>12/30/19 00:01</td>\n",
       "      <td>136 Church St, New York City, NY 10001</td>\n",
       "    </tr>\n",
       "    <tr>\n",
       "      <th>1</th>\n",
       "      <td>295666</td>\n",
       "      <td>LG Washing Machine</td>\n",
       "      <td>1</td>\n",
       "      <td>600.0</td>\n",
       "      <td>12/29/19 07:03</td>\n",
       "      <td>562 2nd St, New York City, NY 10001</td>\n",
       "    </tr>\n",
       "    <tr>\n",
       "      <th>2</th>\n",
       "      <td>295667</td>\n",
       "      <td>USB-C Charging Cable</td>\n",
       "      <td>1</td>\n",
       "      <td>11.95</td>\n",
       "      <td>12/12/19 18:21</td>\n",
       "      <td>277 Main St, New York City, NY 10001</td>\n",
       "    </tr>\n",
       "    <tr>\n",
       "      <th>3</th>\n",
       "      <td>295668</td>\n",
       "      <td>27in FHD Monitor</td>\n",
       "      <td>1</td>\n",
       "      <td>149.99</td>\n",
       "      <td>12/22/19 15:13</td>\n",
       "      <td>410 6th St, San Francisco, CA 94016</td>\n",
       "    </tr>\n",
       "    <tr>\n",
       "      <th>4</th>\n",
       "      <td>295669</td>\n",
       "      <td>USB-C Charging Cable</td>\n",
       "      <td>1</td>\n",
       "      <td>11.95</td>\n",
       "      <td>12/18/19 12:38</td>\n",
       "      <td>43 Hill St, Atlanta, GA 30301</td>\n",
       "    </tr>\n",
       "  </tbody>\n",
       "</table>\n",
       "</div>"
      ],
      "text/plain": [
       "  Order ID               Product Quantity Ordered Price Each      Order Date  \\\n",
       "0   295665    Macbook Pro Laptop                1       1700  12/30/19 00:01   \n",
       "1   295666    LG Washing Machine                1      600.0  12/29/19 07:03   \n",
       "2   295667  USB-C Charging Cable                1      11.95  12/12/19 18:21   \n",
       "3   295668      27in FHD Monitor                1     149.99  12/22/19 15:13   \n",
       "4   295669  USB-C Charging Cable                1      11.95  12/18/19 12:38   \n",
       "\n",
       "                         Purchase Address  \n",
       "0  136 Church St, New York City, NY 10001  \n",
       "1     562 2nd St, New York City, NY 10001  \n",
       "2    277 Main St, New York City, NY 10001  \n",
       "3     410 6th St, San Francisco, CA 94016  \n",
       "4           43 Hill St, Atlanta, GA 30301  "
      ]
     },
     "execution_count": 254,
     "metadata": {},
     "output_type": "execute_result"
    }
   ],
   "source": [
    "df.head()"
   ]
  },
  {
   "cell_type": "code",
   "execution_count": 255,
   "id": "cb7c76b3-32c4-4c1e-a9a8-afad5023743e",
   "metadata": {},
   "outputs": [
    {
     "data": {
      "text/plain": [
       "Order ID            0\n",
       "Product             0\n",
       "Quantity Ordered    0\n",
       "Price Each          0\n",
       "Order Date          0\n",
       "Purchase Address    0\n",
       "dtype: int64"
      ]
     },
     "execution_count": 255,
     "metadata": {},
     "output_type": "execute_result"
    }
   ],
   "source": [
    "df.isnull().sum()"
   ]
  },
  {
   "cell_type": "markdown",
   "id": "6af6cb87-7752-47ee-8d13-25b8915d9a0b",
   "metadata": {},
   "source": [
    "#### Now we will create a new column 'month' which we will extract from 'Order Date' column using pd.to_datetime() function"
   ]
  },
  {
   "cell_type": "code",
   "execution_count": 256,
   "id": "ce4c3969-3f6a-49b8-8636-c938a909b34f",
   "metadata": {},
   "outputs": [],
   "source": [
    "df['Order Date'] = pd.to_datetime(df['Order Date'], errors='coerce')\n",
    "df['month'] = df['Order Date'].dt.month"
   ]
  },
  {
   "cell_type": "code",
   "execution_count": 257,
   "id": "c6861661-0b2a-4618-98d5-f6ee1357553b",
   "metadata": {},
   "outputs": [
    {
     "data": {
      "text/html": [
       "<div>\n",
       "<style scoped>\n",
       "    .dataframe tbody tr th:only-of-type {\n",
       "        vertical-align: middle;\n",
       "    }\n",
       "\n",
       "    .dataframe tbody tr th {\n",
       "        vertical-align: top;\n",
       "    }\n",
       "\n",
       "    .dataframe thead th {\n",
       "        text-align: right;\n",
       "    }\n",
       "</style>\n",
       "<table border=\"1\" class=\"dataframe\">\n",
       "  <thead>\n",
       "    <tr style=\"text-align: right;\">\n",
       "      <th></th>\n",
       "      <th>Order ID</th>\n",
       "      <th>Product</th>\n",
       "      <th>Quantity Ordered</th>\n",
       "      <th>Price Each</th>\n",
       "      <th>Order Date</th>\n",
       "      <th>Purchase Address</th>\n",
       "      <th>month</th>\n",
       "    </tr>\n",
       "  </thead>\n",
       "  <tbody>\n",
       "    <tr>\n",
       "      <th>0</th>\n",
       "      <td>295665</td>\n",
       "      <td>Macbook Pro Laptop</td>\n",
       "      <td>1</td>\n",
       "      <td>1700</td>\n",
       "      <td>2019-12-30 00:01:00</td>\n",
       "      <td>136 Church St, New York City, NY 10001</td>\n",
       "      <td>12.0</td>\n",
       "    </tr>\n",
       "    <tr>\n",
       "      <th>1</th>\n",
       "      <td>295666</td>\n",
       "      <td>LG Washing Machine</td>\n",
       "      <td>1</td>\n",
       "      <td>600.0</td>\n",
       "      <td>2019-12-29 07:03:00</td>\n",
       "      <td>562 2nd St, New York City, NY 10001</td>\n",
       "      <td>12.0</td>\n",
       "    </tr>\n",
       "    <tr>\n",
       "      <th>2</th>\n",
       "      <td>295667</td>\n",
       "      <td>USB-C Charging Cable</td>\n",
       "      <td>1</td>\n",
       "      <td>11.95</td>\n",
       "      <td>2019-12-12 18:21:00</td>\n",
       "      <td>277 Main St, New York City, NY 10001</td>\n",
       "      <td>12.0</td>\n",
       "    </tr>\n",
       "    <tr>\n",
       "      <th>3</th>\n",
       "      <td>295668</td>\n",
       "      <td>27in FHD Monitor</td>\n",
       "      <td>1</td>\n",
       "      <td>149.99</td>\n",
       "      <td>2019-12-22 15:13:00</td>\n",
       "      <td>410 6th St, San Francisco, CA 94016</td>\n",
       "      <td>12.0</td>\n",
       "    </tr>\n",
       "    <tr>\n",
       "      <th>4</th>\n",
       "      <td>295669</td>\n",
       "      <td>USB-C Charging Cable</td>\n",
       "      <td>1</td>\n",
       "      <td>11.95</td>\n",
       "      <td>2019-12-18 12:38:00</td>\n",
       "      <td>43 Hill St, Atlanta, GA 30301</td>\n",
       "      <td>12.0</td>\n",
       "    </tr>\n",
       "  </tbody>\n",
       "</table>\n",
       "</div>"
      ],
      "text/plain": [
       "  Order ID               Product Quantity Ordered Price Each  \\\n",
       "0   295665    Macbook Pro Laptop                1       1700   \n",
       "1   295666    LG Washing Machine                1      600.0   \n",
       "2   295667  USB-C Charging Cable                1      11.95   \n",
       "3   295668      27in FHD Monitor                1     149.99   \n",
       "4   295669  USB-C Charging Cable                1      11.95   \n",
       "\n",
       "           Order Date                        Purchase Address  month  \n",
       "0 2019-12-30 00:01:00  136 Church St, New York City, NY 10001   12.0  \n",
       "1 2019-12-29 07:03:00     562 2nd St, New York City, NY 10001   12.0  \n",
       "2 2019-12-12 18:21:00    277 Main St, New York City, NY 10001   12.0  \n",
       "3 2019-12-22 15:13:00     410 6th St, San Francisco, CA 94016   12.0  \n",
       "4 2019-12-18 12:38:00           43 Hill St, Atlanta, GA 30301   12.0  "
      ]
     },
     "execution_count": 257,
     "metadata": {},
     "output_type": "execute_result"
    }
   ],
   "source": [
    "df.head()"
   ]
  },
  {
   "cell_type": "markdown",
   "id": "14c592fd-78a4-4787-8d7b-790b8efb2f25",
   "metadata": {},
   "source": [
    "### Let's determine which month had the highest sales."
   ]
  },
  {
   "cell_type": "markdown",
   "id": "5ef74a70-a666-4c8e-b774-41fc483d5a2f",
   "metadata": {},
   "source": [
    "#### To determine sales we'll have to create a new column called 'Sales'"
   ]
  },
  {
   "cell_type": "code",
   "execution_count": 258,
   "id": "d7d440d0-502c-4d68-a46b-15bac77a35b5",
   "metadata": {
    "scrolled": true
   },
   "outputs": [],
   "source": [
    "#Converting all required columns of string format to numeric\n",
    "df['Quantity Ordered'] = pd.to_numeric(df['Quantity Ordered'], errors='coerce')\n",
    "df['Price Each'] = pd.to_numeric(df['Price Each'], errors='coerce')"
   ]
  },
  {
   "cell_type": "code",
   "execution_count": 259,
   "id": "d1f3518b-1e0f-4a11-9d11-4f4c23a7d1cb",
   "metadata": {},
   "outputs": [
    {
     "name": "stdout",
     "output_type": "stream",
     "text": [
      "<class 'pandas.core.frame.DataFrame'>\n",
      "Index: 186305 entries, 0 to 186849\n",
      "Data columns (total 7 columns):\n",
      " #   Column            Non-Null Count   Dtype         \n",
      "---  ------            --------------   -----         \n",
      " 0   Order ID          186305 non-null  object        \n",
      " 1   Product           186305 non-null  object        \n",
      " 2   Quantity Ordered  185950 non-null  float64       \n",
      " 3   Price Each        185950 non-null  float64       \n",
      " 4   Order Date        185950 non-null  datetime64[ns]\n",
      " 5   Purchase Address  186305 non-null  object        \n",
      " 6   month             185950 non-null  float64       \n",
      "dtypes: datetime64[ns](1), float64(3), object(3)\n",
      "memory usage: 11.4+ MB\n"
     ]
    }
   ],
   "source": [
    "df.info()"
   ]
  },
  {
   "cell_type": "code",
   "execution_count": 260,
   "id": "9b377ab8-5700-43d8-99e9-e9e3c18b5509",
   "metadata": {},
   "outputs": [],
   "source": [
    "df['Sales'] = df['Quantity Ordered']*df['Price Each']"
   ]
  },
  {
   "cell_type": "code",
   "execution_count": 261,
   "id": "b06682e7-8e38-4187-a986-95d6775d0234",
   "metadata": {},
   "outputs": [
    {
     "data": {
      "text/html": [
       "<div>\n",
       "<style scoped>\n",
       "    .dataframe tbody tr th:only-of-type {\n",
       "        vertical-align: middle;\n",
       "    }\n",
       "\n",
       "    .dataframe tbody tr th {\n",
       "        vertical-align: top;\n",
       "    }\n",
       "\n",
       "    .dataframe thead th {\n",
       "        text-align: right;\n",
       "    }\n",
       "</style>\n",
       "<table border=\"1\" class=\"dataframe\">\n",
       "  <thead>\n",
       "    <tr style=\"text-align: right;\">\n",
       "      <th></th>\n",
       "      <th>Order ID</th>\n",
       "      <th>Product</th>\n",
       "      <th>Quantity Ordered</th>\n",
       "      <th>Price Each</th>\n",
       "      <th>Order Date</th>\n",
       "      <th>Purchase Address</th>\n",
       "      <th>month</th>\n",
       "      <th>Sales</th>\n",
       "    </tr>\n",
       "  </thead>\n",
       "  <tbody>\n",
       "    <tr>\n",
       "      <th>0</th>\n",
       "      <td>295665</td>\n",
       "      <td>Macbook Pro Laptop</td>\n",
       "      <td>1.0</td>\n",
       "      <td>1700.00</td>\n",
       "      <td>2019-12-30 00:01:00</td>\n",
       "      <td>136 Church St, New York City, NY 10001</td>\n",
       "      <td>12.0</td>\n",
       "      <td>1700.00</td>\n",
       "    </tr>\n",
       "    <tr>\n",
       "      <th>1</th>\n",
       "      <td>295666</td>\n",
       "      <td>LG Washing Machine</td>\n",
       "      <td>1.0</td>\n",
       "      <td>600.00</td>\n",
       "      <td>2019-12-29 07:03:00</td>\n",
       "      <td>562 2nd St, New York City, NY 10001</td>\n",
       "      <td>12.0</td>\n",
       "      <td>600.00</td>\n",
       "    </tr>\n",
       "    <tr>\n",
       "      <th>2</th>\n",
       "      <td>295667</td>\n",
       "      <td>USB-C Charging Cable</td>\n",
       "      <td>1.0</td>\n",
       "      <td>11.95</td>\n",
       "      <td>2019-12-12 18:21:00</td>\n",
       "      <td>277 Main St, New York City, NY 10001</td>\n",
       "      <td>12.0</td>\n",
       "      <td>11.95</td>\n",
       "    </tr>\n",
       "    <tr>\n",
       "      <th>3</th>\n",
       "      <td>295668</td>\n",
       "      <td>27in FHD Monitor</td>\n",
       "      <td>1.0</td>\n",
       "      <td>149.99</td>\n",
       "      <td>2019-12-22 15:13:00</td>\n",
       "      <td>410 6th St, San Francisco, CA 94016</td>\n",
       "      <td>12.0</td>\n",
       "      <td>149.99</td>\n",
       "    </tr>\n",
       "    <tr>\n",
       "      <th>4</th>\n",
       "      <td>295669</td>\n",
       "      <td>USB-C Charging Cable</td>\n",
       "      <td>1.0</td>\n",
       "      <td>11.95</td>\n",
       "      <td>2019-12-18 12:38:00</td>\n",
       "      <td>43 Hill St, Atlanta, GA 30301</td>\n",
       "      <td>12.0</td>\n",
       "      <td>11.95</td>\n",
       "    </tr>\n",
       "  </tbody>\n",
       "</table>\n",
       "</div>"
      ],
      "text/plain": [
       "  Order ID               Product  Quantity Ordered  Price Each  \\\n",
       "0   295665    Macbook Pro Laptop               1.0     1700.00   \n",
       "1   295666    LG Washing Machine               1.0      600.00   \n",
       "2   295667  USB-C Charging Cable               1.0       11.95   \n",
       "3   295668      27in FHD Monitor               1.0      149.99   \n",
       "4   295669  USB-C Charging Cable               1.0       11.95   \n",
       "\n",
       "           Order Date                        Purchase Address  month    Sales  \n",
       "0 2019-12-30 00:01:00  136 Church St, New York City, NY 10001   12.0  1700.00  \n",
       "1 2019-12-29 07:03:00     562 2nd St, New York City, NY 10001   12.0   600.00  \n",
       "2 2019-12-12 18:21:00    277 Main St, New York City, NY 10001   12.0    11.95  \n",
       "3 2019-12-22 15:13:00     410 6th St, San Francisco, CA 94016   12.0   149.99  \n",
       "4 2019-12-18 12:38:00           43 Hill St, Atlanta, GA 30301   12.0    11.95  "
      ]
     },
     "execution_count": 261,
     "metadata": {},
     "output_type": "execute_result"
    }
   ],
   "source": [
    "df.head()"
   ]
  },
  {
   "cell_type": "code",
   "execution_count": 262,
   "id": "d6c15442-2636-4ad4-83c9-4d725e16bf6b",
   "metadata": {},
   "outputs": [],
   "source": [
    "# Sales of each month\n",
    "results = df.groupby('month')[['Quantity Ordered','Sales']].sum()"
   ]
  },
  {
   "cell_type": "code",
   "execution_count": 263,
   "id": "06ababba-1482-46df-8e4d-ece0118d2b4e",
   "metadata": {},
   "outputs": [
    {
     "data": {
      "text/plain": [
       "Text(0.5, 1.0, 'Sales vs Month')"
      ]
     },
     "execution_count": 263,
     "metadata": {},
     "output_type": "execute_result"
    },
    {
     "data": {
      "image/png": "[encoded data removed]",
      "text/plain": [
       "<Figure size 1200x800 with 1 Axes>"
      ]
     },
     "metadata": {},
     "output_type": "display_data"
    }
   ],
   "source": [
    "plt.figure(figsize=(12,8))\n",
    "months = range(1,13)\n",
    "plt.bar(months,results['Sales'])\n",
    "plt.xticks(months)\n",
    "plt.xlabel('Month Number')\n",
    "plt.ylabel('Sales (Millions of $)')\n",
    "plt.title('Sales vs Month')"
   ]
  },
  {
   "cell_type": "markdown",
   "id": "4dd772b2-c44f-4bcb-9987-b04d08285e61",
   "metadata": {},
   "source": [
    "### Let's determine which city had the highest sales."
   ]
  },
  {
   "cell_type": "markdown",
   "id": "d1621f2e-4af7-4210-bc81-039903d0ef27",
   "metadata": {},
   "source": [
    "#### For this we will have to extract city names from 'Purchase Address' column"
   ]
  },
  {
   "cell_type": "code",
   "execution_count": 265,
   "id": "02196fbe-e552-4160-baf7-69211bff6e74",
   "metadata": {},
   "outputs": [],
   "source": [
    "# We will do this using .apply() method\n",
    "def extract_city(address):\n",
    "    parts = address.split(',')\n",
    "    if len(parts) > 1:\n",
    "        return parts[1].strip() \n",
    "    return None\n",
    "    \n",
    "df['City'] = df['Purchase Address'].apply(extract_city)\n",
    "\n",
    "df = df.dropna()"
   ]
  },
  {
   "cell_type": "code",
   "execution_count": 266,
   "id": "d63c1f42-6f6a-4cc1-b836-dca77816aaf3",
   "metadata": {},
   "outputs": [
    {
     "data": {
      "text/html": [
       "<div>\n",
       "<style scoped>\n",
       "    .dataframe tbody tr th:only-of-type {\n",
       "        vertical-align: middle;\n",
       "    }\n",
       "\n",
       "    .dataframe tbody tr th {\n",
       "        vertical-align: top;\n",
       "    }\n",
       "\n",
       "    .dataframe thead th {\n",
       "        text-align: right;\n",
       "    }\n",
       "</style>\n",
       "<table border=\"1\" class=\"dataframe\">\n",
       "  <thead>\n",
       "    <tr style=\"text-align: right;\">\n",
       "      <th></th>\n",
       "      <th>Order ID</th>\n",
       "      <th>Product</th>\n",
       "      <th>Quantity Ordered</th>\n",
       "      <th>Price Each</th>\n",
       "      <th>Order Date</th>\n",
       "      <th>Purchase Address</th>\n",
       "      <th>month</th>\n",
       "      <th>Sales</th>\n",
       "      <th>City</th>\n",
       "    </tr>\n",
       "  </thead>\n",
       "  <tbody>\n",
       "    <tr>\n",
       "      <th>0</th>\n",
       "      <td>295665</td>\n",
       "      <td>Macbook Pro Laptop</td>\n",
       "      <td>1.0</td>\n",
       "      <td>1700.00</td>\n",
       "      <td>2019-12-30 00:01:00</td>\n",
       "      <td>136 Church St, New York City, NY 10001</td>\n",
       "      <td>12.0</td>\n",
       "      <td>1700.00</td>\n",
       "      <td>New York City</td>\n",
       "    </tr>\n",
       "    <tr>\n",
       "      <th>1</th>\n",
       "      <td>295666</td>\n",
       "      <td>LG Washing Machine</td>\n",
       "      <td>1.0</td>\n",
       "      <td>600.00</td>\n",
       "      <td>2019-12-29 07:03:00</td>\n",
       "      <td>562 2nd St, New York City, NY 10001</td>\n",
       "      <td>12.0</td>\n",
       "      <td>600.00</td>\n",
       "      <td>New York City</td>\n",
       "    </tr>\n",
       "    <tr>\n",
       "      <th>2</th>\n",
       "      <td>295667</td>\n",
       "      <td>USB-C Charging Cable</td>\n",
       "      <td>1.0</td>\n",
       "      <td>11.95</td>\n",
       "      <td>2019-12-12 18:21:00</td>\n",
       "      <td>277 Main St, New York City, NY 10001</td>\n",
       "      <td>12.0</td>\n",
       "      <td>11.95</td>\n",
       "      <td>New York City</td>\n",
       "    </tr>\n",
       "    <tr>\n",
       "      <th>3</th>\n",
       "      <td>295668</td>\n",
       "      <td>27in FHD Monitor</td>\n",
       "      <td>1.0</td>\n",
       "      <td>149.99</td>\n",
       "      <td>2019-12-22 15:13:00</td>\n",
       "      <td>410 6th St, San Francisco, CA 94016</td>\n",
       "      <td>12.0</td>\n",
       "      <td>149.99</td>\n",
       "      <td>San Francisco</td>\n",
       "    </tr>\n",
       "    <tr>\n",
       "      <th>4</th>\n",
       "      <td>295669</td>\n",
       "      <td>USB-C Charging Cable</td>\n",
       "      <td>1.0</td>\n",
       "      <td>11.95</td>\n",
       "      <td>2019-12-18 12:38:00</td>\n",
       "      <td>43 Hill St, Atlanta, GA 30301</td>\n",
       "      <td>12.0</td>\n",
       "      <td>11.95</td>\n",
       "      <td>Atlanta</td>\n",
       "    </tr>\n",
       "  </tbody>\n",
       "</table>\n",
       "</div>"
      ],
      "text/plain": [
       "  Order ID               Product  Quantity Ordered  Price Each  \\\n",
       "0   295665    Macbook Pro Laptop               1.0     1700.00   \n",
       "1   295666    LG Washing Machine               1.0      600.00   \n",
       "2   295667  USB-C Charging Cable               1.0       11.95   \n",
       "3   295668      27in FHD Monitor               1.0      149.99   \n",
       "4   295669  USB-C Charging Cable               1.0       11.95   \n",
       "\n",
       "           Order Date                        Purchase Address  month    Sales  \\\n",
       "0 2019-12-30 00:01:00  136 Church St, New York City, NY 10001   12.0  1700.00   \n",
       "1 2019-12-29 07:03:00     562 2nd St, New York City, NY 10001   12.0   600.00   \n",
       "2 2019-12-12 18:21:00    277 Main St, New York City, NY 10001   12.0    11.95   \n",
       "3 2019-12-22 15:13:00     410 6th St, San Francisco, CA 94016   12.0   149.99   \n",
       "4 2019-12-18 12:38:00           43 Hill St, Atlanta, GA 30301   12.0    11.95   \n",
       "\n",
       "            City  \n",
       "0  New York City  \n",
       "1  New York City  \n",
       "2  New York City  \n",
       "3  San Francisco  \n",
       "4        Atlanta  "
      ]
     },
     "execution_count": 266,
     "metadata": {},
     "output_type": "execute_result"
    }
   ],
   "source": [
    "df.head()"
   ]
  },
  {
   "cell_type": "code",
   "execution_count": 270,
   "id": "af67975d-bb28-447a-b712-fab8b3703339",
   "metadata": {},
   "outputs": [],
   "source": [
    "results = df.groupby('City')[['Quantity Ordered','Sales']].sum()"
   ]
  },
  {
   "cell_type": "code",
   "execution_count": 275,
   "id": "dff84b4e-108f-415f-82ac-2403bc633584",
   "metadata": {},
   "outputs": [
    {
     "data": {
      "text/plain": [
       "9"
      ]
     },
     "execution_count": 275,
     "metadata": {},
     "output_type": "execute_result"
    }
   ],
   "source": [
    "df['City'].nunique()"
   ]
  },
  {
   "cell_type": "code",
   "execution_count": 271,
   "id": "542043a4-f3cc-4b84-b43d-270c33198f91",
   "metadata": {},
   "outputs": [
    {
     "data": {
      "text/html": [
       "<div>\n",
       "<style scoped>\n",
       "    .dataframe tbody tr th:only-of-type {\n",
       "        vertical-align: middle;\n",
       "    }\n",
       "\n",
       "    .dataframe tbody tr th {\n",
       "        vertical-align: top;\n",
       "    }\n",
       "\n",
       "    .dataframe thead th {\n",
       "        text-align: right;\n",
       "    }\n",
       "</style>\n",
       "<table border=\"1\" class=\"dataframe\">\n",
       "  <thead>\n",
       "    <tr style=\"text-align: right;\">\n",
       "      <th></th>\n",
       "      <th>Quantity Ordered</th>\n",
       "      <th>Sales</th>\n",
       "    </tr>\n",
       "    <tr>\n",
       "      <th>City</th>\n",
       "      <th></th>\n",
       "      <th></th>\n",
       "    </tr>\n",
       "  </thead>\n",
       "  <tbody>\n",
       "    <tr>\n",
       "      <th>Atlanta</th>\n",
       "      <td>16602.0</td>\n",
       "      <td>2795498.58</td>\n",
       "    </tr>\n",
       "    <tr>\n",
       "      <th>Austin</th>\n",
       "      <td>11153.0</td>\n",
       "      <td>1819581.75</td>\n",
       "    </tr>\n",
       "    <tr>\n",
       "      <th>Boston</th>\n",
       "      <td>22528.0</td>\n",
       "      <td>3661642.01</td>\n",
       "    </tr>\n",
       "    <tr>\n",
       "      <th>Dallas</th>\n",
       "      <td>16730.0</td>\n",
       "      <td>2767975.40</td>\n",
       "    </tr>\n",
       "    <tr>\n",
       "      <th>Los Angeles</th>\n",
       "      <td>33289.0</td>\n",
       "      <td>5452570.80</td>\n",
       "    </tr>\n",
       "    <tr>\n",
       "      <th>New York City</th>\n",
       "      <td>27932.0</td>\n",
       "      <td>4664317.43</td>\n",
       "    </tr>\n",
       "    <tr>\n",
       "      <th>Portland</th>\n",
       "      <td>14053.0</td>\n",
       "      <td>2320490.61</td>\n",
       "    </tr>\n",
       "    <tr>\n",
       "      <th>San Francisco</th>\n",
       "      <td>50239.0</td>\n",
       "      <td>8262203.91</td>\n",
       "    </tr>\n",
       "    <tr>\n",
       "      <th>Seattle</th>\n",
       "      <td>16553.0</td>\n",
       "      <td>2747755.48</td>\n",
       "    </tr>\n",
       "  </tbody>\n",
       "</table>\n",
       "</div>"
      ],
      "text/plain": [
       "               Quantity Ordered       Sales\n",
       "City                                       \n",
       "Atlanta                 16602.0  2795498.58\n",
       "Austin                  11153.0  1819581.75\n",
       "Boston                  22528.0  3661642.01\n",
       "Dallas                  16730.0  2767975.40\n",
       "Los Angeles             33289.0  5452570.80\n",
       "New York City           27932.0  4664317.43\n",
       "Portland                14053.0  2320490.61\n",
       "San Francisco           50239.0  8262203.91\n",
       "Seattle                 16553.0  2747755.48"
      ]
     },
     "execution_count": 271,
     "metadata": {},
     "output_type": "execute_result"
    }
   ],
   "source": [
    "results"
   ]
  },
  {
   "cell_type": "code",
   "execution_count": 282,
   "id": "a489419a-a211-4138-9581-f51a65032d88",
   "metadata": {},
   "outputs": [
    {
     "data": {
      "text/plain": [
       "Text(0.5, 1.0, 'Sales vs City')"
      ]
     },
     "execution_count": 282,
     "metadata": {},
     "output_type": "execute_result"
    },
    {
     "data": {
      "image/png": "[encoded data removed]",
      "text/plain": [
       "<Figure size 1000x800 with 1 Axes>"
      ]
     },
     "metadata": {},
     "output_type": "display_data"
    }
   ],
   "source": [
    "plt.figure(figsize=(10,8))\n",
    "city = [city for city,df in df.groupby('City')]\n",
    "plt.bar(city,results['Sales'])\n",
    "plt.xticks(city,rotation='vertical')\n",
    "plt.xlabel('City Name')\n",
    "plt.ylabel('Sales (Millions of $)')\n",
    "plt.title('Sales vs City')\n"
   ]
  },
  {
   "cell_type": "markdown",
   "id": "5b2eb84f-18f1-4ee2-9158-2cf9fdced61b",
   "metadata": {},
   "source": [
    "#### What time should we display advertisements to maximise likelihood of customers buying products?"
   ]
  },
  {
   "cell_type": "markdown",
   "id": "d4ce7fe2-d46f-4eac-8c27-9d412690f5af",
   "metadata": {},
   "source": [
    "For this, we will have to create a new columns called 'Hours' and 'Minutes' which will be extracted from 'Order Date' column"
   ]
  },
  {
   "cell_type": "code",
   "execution_count": 284,
   "id": "1109141c-d476-4a59-9ff9-1301d11b2ee7",
   "metadata": {},
   "outputs": [],
   "source": [
    "df['Hours'] = df['Order Date'].dt.hour"
   ]
  },
  {
   "cell_type": "code",
   "execution_count": 288,
   "id": "14120f6b-4f0c-4463-a92c-80799fa34653",
   "metadata": {},
   "outputs": [],
   "source": [
    "df['Minutes'] = df['Order Date'].dt.minute"
   ]
  },
  {
   "cell_type": "code",
   "execution_count": 289,
   "id": "53c24e83-a420-4b49-9c8d-7b18e18b6f42",
   "metadata": {},
   "outputs": [
    {
     "data": {
      "text/html": [
       "<div>\n",
       "<style scoped>\n",
       "    .dataframe tbody tr th:only-of-type {\n",
       "        vertical-align: middle;\n",
       "    }\n",
       "\n",
       "    .dataframe tbody tr th {\n",
       "        vertical-align: top;\n",
       "    }\n",
       "\n",
       "    .dataframe thead th {\n",
       "        text-align: right;\n",
       "    }\n",
       "</style>\n",
       "<table border=\"1\" class=\"dataframe\">\n",
       "  <thead>\n",
       "    <tr style=\"text-align: right;\">\n",
       "      <th></th>\n",
       "      <th>Order ID</th>\n",
       "      <th>Product</th>\n",
       "      <th>Quantity Ordered</th>\n",
       "      <th>Price Each</th>\n",
       "      <th>Order Date</th>\n",
       "      <th>Purchase Address</th>\n",
       "      <th>month</th>\n",
       "      <th>Sales</th>\n",
       "      <th>City</th>\n",
       "      <th>Hours</th>\n",
       "      <th>Minutes</th>\n",
       "    </tr>\n",
       "  </thead>\n",
       "  <tbody>\n",
       "    <tr>\n",
       "      <th>0</th>\n",
       "      <td>295665</td>\n",
       "      <td>Macbook Pro Laptop</td>\n",
       "      <td>1.0</td>\n",
       "      <td>1700.00</td>\n",
       "      <td>2019-12-30 00:01:00</td>\n",
       "      <td>136 Church St, New York City, NY 10001</td>\n",
       "      <td>12.0</td>\n",
       "      <td>1700.00</td>\n",
       "      <td>New York City</td>\n",
       "      <td>0</td>\n",
       "      <td>1</td>\n",
       "    </tr>\n",
       "    <tr>\n",
       "      <th>1</th>\n",
       "      <td>295666</td>\n",
       "      <td>LG Washing Machine</td>\n",
       "      <td>1.0</td>\n",
       "      <td>600.00</td>\n",
       "      <td>2019-12-29 07:03:00</td>\n",
       "      <td>562 2nd St, New York City, NY 10001</td>\n",
       "      <td>12.0</td>\n",
       "      <td>600.00</td>\n",
       "      <td>New York City</td>\n",
       "      <td>7</td>\n",
       "      <td>3</td>\n",
       "    </tr>\n",
       "    <tr>\n",
       "      <th>2</th>\n",
       "      <td>295667</td>\n",
       "      <td>USB-C Charging Cable</td>\n",
       "      <td>1.0</td>\n",
       "      <td>11.95</td>\n",
       "      <td>2019-12-12 18:21:00</td>\n",
       "      <td>277 Main St, New York City, NY 10001</td>\n",
       "      <td>12.0</td>\n",
       "      <td>11.95</td>\n",
       "      <td>New York City</td>\n",
       "      <td>18</td>\n",
       "      <td>21</td>\n",
       "    </tr>\n",
       "    <tr>\n",
       "      <th>3</th>\n",
       "      <td>295668</td>\n",
       "      <td>27in FHD Monitor</td>\n",
       "      <td>1.0</td>\n",
       "      <td>149.99</td>\n",
       "      <td>2019-12-22 15:13:00</td>\n",
       "      <td>410 6th St, San Francisco, CA 94016</td>\n",
       "      <td>12.0</td>\n",
       "      <td>149.99</td>\n",
       "      <td>San Francisco</td>\n",
       "      <td>15</td>\n",
       "      <td>13</td>\n",
       "    </tr>\n",
       "    <tr>\n",
       "      <th>4</th>\n",
       "      <td>295669</td>\n",
       "      <td>USB-C Charging Cable</td>\n",
       "      <td>1.0</td>\n",
       "      <td>11.95</td>\n",
       "      <td>2019-12-18 12:38:00</td>\n",
       "      <td>43 Hill St, Atlanta, GA 30301</td>\n",
       "      <td>12.0</td>\n",
       "      <td>11.95</td>\n",
       "      <td>Atlanta</td>\n",
       "      <td>12</td>\n",
       "      <td>38</td>\n",
       "    </tr>\n",
       "  </tbody>\n",
       "</table>\n",
       "</div>"
      ],
      "text/plain": [
       "  Order ID               Product  Quantity Ordered  Price Each  \\\n",
       "0   295665    Macbook Pro Laptop               1.0     1700.00   \n",
       "1   295666    LG Washing Machine               1.0      600.00   \n",
       "2   295667  USB-C Charging Cable               1.0       11.95   \n",
       "3   295668      27in FHD Monitor               1.0      149.99   \n",
       "4   295669  USB-C Charging Cable               1.0       11.95   \n",
       "\n",
       "           Order Date                        Purchase Address  month    Sales  \\\n",
       "0 2019-12-30 00:01:00  136 Church St, New York City, NY 10001   12.0  1700.00   \n",
       "1 2019-12-29 07:03:00     562 2nd St, New York City, NY 10001   12.0   600.00   \n",
       "2 2019-12-12 18:21:00    277 Main St, New York City, NY 10001   12.0    11.95   \n",
       "3 2019-12-22 15:13:00     410 6th St, San Francisco, CA 94016   12.0   149.99   \n",
       "4 2019-12-18 12:38:00           43 Hill St, Atlanta, GA 30301   12.0    11.95   \n",
       "\n",
       "            City  Hours  Minutes  \n",
       "0  New York City      0        1  \n",
       "1  New York City      7        3  \n",
       "2  New York City     18       21  \n",
       "3  San Francisco     15       13  \n",
       "4        Atlanta     12       38  "
      ]
     },
     "execution_count": 289,
     "metadata": {},
     "output_type": "execute_result"
    }
   ],
   "source": [
    "df.head()"
   ]
  },
  {
   "cell_type": "code",
   "execution_count": 298,
   "id": "fb69ac5e-c051-49f2-8c31-f85a03265809",
   "metadata": {},
   "outputs": [
    {
     "data": {
      "image/png": "[encoded data removed]",
      "text/plain": [
       "<Figure size 1200x800 with 1 Axes>"
      ]
     },
     "metadata": {},
     "output_type": "display_data"
    }
   ],
   "source": [
    "plt.figure(figsize=(12,8))\n",
    "hour = [hour for hour,df in df.groupby('Hours')]\n",
    "plt.plot(hour,df.groupby(['Hours']).count())\n",
    "plt.xticks(hour)\n",
    "plt.xlabel('Hours')\n",
    "plt.ylabel('Number of Orders')\n",
    "plt.title('Orders vs Hours')\n",
    "plt.grid()\n",
    "plt.show()\n",
    "\n",
    "#my recommendation is around 11am and 7pm"
   ]
  },
  {
   "cell_type": "markdown",
   "id": "bc58dbc4-d3d7-4145-90f2-932615e1eda2",
   "metadata": {},
   "source": [
    "### What products are most often sold together?"
   ]
  },
  {
   "cell_type": "code",
   "execution_count": 301,
   "id": "acfc9885-bd63-4af1-9f51-ce45fd81eb45",
   "metadata": {},
   "outputs": [],
   "source": [
    " # For this we'll have tocreate a separate dataframe for items havind same Order ID\n",
    "new_df = df[df['Order ID'].duplicated(keep=False)]"
   ]
  },
  {
   "cell_type": "code",
   "execution_count": 303,
   "id": "0d68987e-b84d-4d49-93ea-e48a3f924d57",
   "metadata": {},
   "outputs": [
    {
     "data": {
      "text/html": [
       "<div>\n",
       "<style scoped>\n",
       "    .dataframe tbody tr th:only-of-type {\n",
       "        vertical-align: middle;\n",
       "    }\n",
       "\n",
       "    .dataframe tbody tr th {\n",
       "        vertical-align: top;\n",
       "    }\n",
       "\n",
       "    .dataframe thead th {\n",
       "        text-align: right;\n",
       "    }\n",
       "</style>\n",
       "<table border=\"1\" class=\"dataframe\">\n",
       "  <thead>\n",
       "    <tr style=\"text-align: right;\">\n",
       "      <th></th>\n",
       "      <th>Order ID</th>\n",
       "      <th>Product</th>\n",
       "      <th>Quantity Ordered</th>\n",
       "      <th>Price Each</th>\n",
       "      <th>Order Date</th>\n",
       "      <th>Purchase Address</th>\n",
       "      <th>month</th>\n",
       "      <th>Sales</th>\n",
       "      <th>City</th>\n",
       "      <th>Hours</th>\n",
       "      <th>Minutes</th>\n",
       "    </tr>\n",
       "  </thead>\n",
       "  <tbody>\n",
       "    <tr>\n",
       "      <th>16</th>\n",
       "      <td>295681</td>\n",
       "      <td>Google Phone</td>\n",
       "      <td>1.0</td>\n",
       "      <td>600.00</td>\n",
       "      <td>2019-12-25 12:37:00</td>\n",
       "      <td>79 Elm St, Boston, MA 02215</td>\n",
       "      <td>12.0</td>\n",
       "      <td>600.00</td>\n",
       "      <td>Boston</td>\n",
       "      <td>12</td>\n",
       "      <td>37</td>\n",
       "    </tr>\n",
       "    <tr>\n",
       "      <th>17</th>\n",
       "      <td>295681</td>\n",
       "      <td>USB-C Charging Cable</td>\n",
       "      <td>1.0</td>\n",
       "      <td>11.95</td>\n",
       "      <td>2019-12-25 12:37:00</td>\n",
       "      <td>79 Elm St, Boston, MA 02215</td>\n",
       "      <td>12.0</td>\n",
       "      <td>11.95</td>\n",
       "      <td>Boston</td>\n",
       "      <td>12</td>\n",
       "      <td>37</td>\n",
       "    </tr>\n",
       "  </tbody>\n",
       "</table>\n",
       "</div>"
      ],
      "text/plain": [
       "   Order ID               Product  Quantity Ordered  Price Each  \\\n",
       "16   295681          Google Phone               1.0      600.00   \n",
       "17   295681  USB-C Charging Cable               1.0       11.95   \n",
       "\n",
       "            Order Date             Purchase Address  month   Sales    City  \\\n",
       "16 2019-12-25 12:37:00  79 Elm St, Boston, MA 02215   12.0  600.00  Boston   \n",
       "17 2019-12-25 12:37:00  79 Elm St, Boston, MA 02215   12.0   11.95  Boston   \n",
       "\n",
       "    Hours  Minutes  \n",
       "16     12       37  \n",
       "17     12       37  "
      ]
     },
     "execution_count": 303,
     "metadata": {},
     "output_type": "execute_result"
    }
   ],
   "source": [
    "new_df.head(2)"
   ]
  },
  {
   "cell_type": "code",
   "execution_count": 306,
   "id": "91e4816d-5e30-4161-a4df-26f44bdeeb7c",
   "metadata": {},
   "outputs": [
    {
     "data": {
      "text/html": [
       "<div>\n",
       "<style scoped>\n",
       "    .dataframe tbody tr th:only-of-type {\n",
       "        vertical-align: middle;\n",
       "    }\n",
       "\n",
       "    .dataframe tbody tr th {\n",
       "        vertical-align: top;\n",
       "    }\n",
       "\n",
       "    .dataframe thead th {\n",
       "        text-align: right;\n",
       "    }\n",
       "</style>\n",
       "<table border=\"1\" class=\"dataframe\">\n",
       "  <thead>\n",
       "    <tr style=\"text-align: right;\">\n",
       "      <th></th>\n",
       "      <th>Order ID</th>\n",
       "      <th>Product</th>\n",
       "      <th>Quantity Ordered</th>\n",
       "      <th>Price Each</th>\n",
       "      <th>Order Date</th>\n",
       "      <th>Purchase Address</th>\n",
       "      <th>month</th>\n",
       "      <th>Sales</th>\n",
       "      <th>City</th>\n",
       "      <th>Hours</th>\n",
       "      <th>Minutes</th>\n",
       "      <th>Grouped</th>\n",
       "    </tr>\n",
       "  </thead>\n",
       "  <tbody>\n",
       "    <tr>\n",
       "      <th>16</th>\n",
       "      <td>295681</td>\n",
       "      <td>Google Phone</td>\n",
       "      <td>1.0</td>\n",
       "      <td>600.00</td>\n",
       "      <td>2019-12-25 12:37:00</td>\n",
       "      <td>79 Elm St, Boston, MA 02215</td>\n",
       "      <td>12.0</td>\n",
       "      <td>600.00</td>\n",
       "      <td>Boston</td>\n",
       "      <td>12</td>\n",
       "      <td>37</td>\n",
       "      <td>Google Phone,USB-C Charging Cable,Bose SoundSp...</td>\n",
       "    </tr>\n",
       "    <tr>\n",
       "      <th>17</th>\n",
       "      <td>295681</td>\n",
       "      <td>USB-C Charging Cable</td>\n",
       "      <td>1.0</td>\n",
       "      <td>11.95</td>\n",
       "      <td>2019-12-25 12:37:00</td>\n",
       "      <td>79 Elm St, Boston, MA 02215</td>\n",
       "      <td>12.0</td>\n",
       "      <td>11.95</td>\n",
       "      <td>Boston</td>\n",
       "      <td>12</td>\n",
       "      <td>37</td>\n",
       "      <td>Google Phone,USB-C Charging Cable,Bose SoundSp...</td>\n",
       "    </tr>\n",
       "    <tr>\n",
       "      <th>18</th>\n",
       "      <td>295681</td>\n",
       "      <td>Bose SoundSport Headphones</td>\n",
       "      <td>1.0</td>\n",
       "      <td>99.99</td>\n",
       "      <td>2019-12-25 12:37:00</td>\n",
       "      <td>79 Elm St, Boston, MA 02215</td>\n",
       "      <td>12.0</td>\n",
       "      <td>99.99</td>\n",
       "      <td>Boston</td>\n",
       "      <td>12</td>\n",
       "      <td>37</td>\n",
       "      <td>Google Phone,USB-C Charging Cable,Bose SoundSp...</td>\n",
       "    </tr>\n",
       "    <tr>\n",
       "      <th>19</th>\n",
       "      <td>295681</td>\n",
       "      <td>Wired Headphones</td>\n",
       "      <td>1.0</td>\n",
       "      <td>11.99</td>\n",
       "      <td>2019-12-25 12:37:00</td>\n",
       "      <td>79 Elm St, Boston, MA 02215</td>\n",
       "      <td>12.0</td>\n",
       "      <td>11.99</td>\n",
       "      <td>Boston</td>\n",
       "      <td>12</td>\n",
       "      <td>37</td>\n",
       "      <td>Google Phone,USB-C Charging Cable,Bose SoundSp...</td>\n",
       "    </tr>\n",
       "    <tr>\n",
       "      <th>36</th>\n",
       "      <td>295698</td>\n",
       "      <td>Vareebadd Phone</td>\n",
       "      <td>1.0</td>\n",
       "      <td>400.00</td>\n",
       "      <td>2019-12-13 14:32:00</td>\n",
       "      <td>175 1st St, New York City, NY 10001</td>\n",
       "      <td>12.0</td>\n",
       "      <td>400.00</td>\n",
       "      <td>New York City</td>\n",
       "      <td>14</td>\n",
       "      <td>32</td>\n",
       "      <td>Vareebadd Phone,USB-C Charging Cable</td>\n",
       "    </tr>\n",
       "    <tr>\n",
       "      <th>...</th>\n",
       "      <td>...</td>\n",
       "      <td>...</td>\n",
       "      <td>...</td>\n",
       "      <td>...</td>\n",
       "      <td>...</td>\n",
       "      <td>...</td>\n",
       "      <td>...</td>\n",
       "      <td>...</td>\n",
       "      <td>...</td>\n",
       "      <td>...</td>\n",
       "      <td>...</td>\n",
       "      <td>...</td>\n",
       "    </tr>\n",
       "    <tr>\n",
       "      <th>186820</th>\n",
       "      <td>222882</td>\n",
       "      <td>AA Batteries (4-pack)</td>\n",
       "      <td>1.0</td>\n",
       "      <td>3.84</td>\n",
       "      <td>2019-06-18 11:37:00</td>\n",
       "      <td>990 Walnut St, Los Angeles, CA 90001</td>\n",
       "      <td>6.0</td>\n",
       "      <td>3.84</td>\n",
       "      <td>Los Angeles</td>\n",
       "      <td>11</td>\n",
       "      <td>37</td>\n",
       "      <td>Apple Airpods Headphones,AA Batteries (4-pack)</td>\n",
       "    </tr>\n",
       "    <tr>\n",
       "      <th>186822</th>\n",
       "      <td>222884</td>\n",
       "      <td>Google Phone</td>\n",
       "      <td>1.0</td>\n",
       "      <td>600.00</td>\n",
       "      <td>2019-06-04 12:06:00</td>\n",
       "      <td>819 Pine St, New York City, NY 10001</td>\n",
       "      <td>6.0</td>\n",
       "      <td>600.00</td>\n",
       "      <td>New York City</td>\n",
       "      <td>12</td>\n",
       "      <td>6</td>\n",
       "      <td>Google Phone,USB-C Charging Cable</td>\n",
       "    </tr>\n",
       "    <tr>\n",
       "      <th>186823</th>\n",
       "      <td>222884</td>\n",
       "      <td>USB-C Charging Cable</td>\n",
       "      <td>1.0</td>\n",
       "      <td>11.95</td>\n",
       "      <td>2019-06-04 12:06:00</td>\n",
       "      <td>819 Pine St, New York City, NY 10001</td>\n",
       "      <td>6.0</td>\n",
       "      <td>11.95</td>\n",
       "      <td>New York City</td>\n",
       "      <td>12</td>\n",
       "      <td>6</td>\n",
       "      <td>Google Phone,USB-C Charging Cable</td>\n",
       "    </tr>\n",
       "    <tr>\n",
       "      <th>186842</th>\n",
       "      <td>222903</td>\n",
       "      <td>iPhone</td>\n",
       "      <td>1.0</td>\n",
       "      <td>700.00</td>\n",
       "      <td>2019-06-07 22:21:00</td>\n",
       "      <td>685 Hickory St, New York City, NY 10001</td>\n",
       "      <td>6.0</td>\n",
       "      <td>700.00</td>\n",
       "      <td>New York City</td>\n",
       "      <td>22</td>\n",
       "      <td>21</td>\n",
       "      <td>iPhone,Lightning Charging Cable</td>\n",
       "    </tr>\n",
       "    <tr>\n",
       "      <th>186843</th>\n",
       "      <td>222903</td>\n",
       "      <td>Lightning Charging Cable</td>\n",
       "      <td>1.0</td>\n",
       "      <td>14.95</td>\n",
       "      <td>2019-06-07 22:21:00</td>\n",
       "      <td>685 Hickory St, New York City, NY 10001</td>\n",
       "      <td>6.0</td>\n",
       "      <td>14.95</td>\n",
       "      <td>New York City</td>\n",
       "      <td>22</td>\n",
       "      <td>21</td>\n",
       "      <td>iPhone,Lightning Charging Cable</td>\n",
       "    </tr>\n",
       "  </tbody>\n",
       "</table>\n",
       "<p>14649 rows × 12 columns</p>\n",
       "</div>"
      ],
      "text/plain": [
       "       Order ID                     Product  Quantity Ordered  Price Each  \\\n",
       "16       295681                Google Phone               1.0      600.00   \n",
       "17       295681        USB-C Charging Cable               1.0       11.95   \n",
       "18       295681  Bose SoundSport Headphones               1.0       99.99   \n",
       "19       295681            Wired Headphones               1.0       11.99   \n",
       "36       295698             Vareebadd Phone               1.0      400.00   \n",
       "...         ...                         ...               ...         ...   \n",
       "186820   222882       AA Batteries (4-pack)               1.0        3.84   \n",
       "186822   222884                Google Phone               1.0      600.00   \n",
       "186823   222884        USB-C Charging Cable               1.0       11.95   \n",
       "186842   222903                      iPhone               1.0      700.00   \n",
       "186843   222903    Lightning Charging Cable               1.0       14.95   \n",
       "\n",
       "                Order Date                         Purchase Address  month  \\\n",
       "16     2019-12-25 12:37:00              79 Elm St, Boston, MA 02215   12.0   \n",
       "17     2019-12-25 12:37:00              79 Elm St, Boston, MA 02215   12.0   \n",
       "18     2019-12-25 12:37:00              79 Elm St, Boston, MA 02215   12.0   \n",
       "19     2019-12-25 12:37:00              79 Elm St, Boston, MA 02215   12.0   \n",
       "36     2019-12-13 14:32:00      175 1st St, New York City, NY 10001   12.0   \n",
       "...                    ...                                      ...    ...   \n",
       "186820 2019-06-18 11:37:00     990 Walnut St, Los Angeles, CA 90001    6.0   \n",
       "186822 2019-06-04 12:06:00     819 Pine St, New York City, NY 10001    6.0   \n",
       "186823 2019-06-04 12:06:00     819 Pine St, New York City, NY 10001    6.0   \n",
       "186842 2019-06-07 22:21:00  685 Hickory St, New York City, NY 10001    6.0   \n",
       "186843 2019-06-07 22:21:00  685 Hickory St, New York City, NY 10001    6.0   \n",
       "\n",
       "         Sales           City  Hours  Minutes  \\\n",
       "16      600.00         Boston     12       37   \n",
       "17       11.95         Boston     12       37   \n",
       "18       99.99         Boston     12       37   \n",
       "19       11.99         Boston     12       37   \n",
       "36      400.00  New York City     14       32   \n",
       "...        ...            ...    ...      ...   \n",
       "186820    3.84    Los Angeles     11       37   \n",
       "186822  600.00  New York City     12        6   \n",
       "186823   11.95  New York City     12        6   \n",
       "186842  700.00  New York City     22       21   \n",
       "186843   14.95  New York City     22       21   \n",
       "\n",
       "                                                  Grouped  \n",
       "16      Google Phone,USB-C Charging Cable,Bose SoundSp...  \n",
       "17      Google Phone,USB-C Charging Cable,Bose SoundSp...  \n",
       "18      Google Phone,USB-C Charging Cable,Bose SoundSp...  \n",
       "19      Google Phone,USB-C Charging Cable,Bose SoundSp...  \n",
       "36                   Vareebadd Phone,USB-C Charging Cable  \n",
       "...                                                   ...  \n",
       "186820     Apple Airpods Headphones,AA Batteries (4-pack)  \n",
       "186822                  Google Phone,USB-C Charging Cable  \n",
       "186823                  Google Phone,USB-C Charging Cable  \n",
       "186842                    iPhone,Lightning Charging Cable  \n",
       "186843                    iPhone,Lightning Charging Cable  \n",
       "\n",
       "[14649 rows x 12 columns]"
      ]
     },
     "execution_count": 306,
     "metadata": {},
     "output_type": "execute_result"
    }
   ],
   "source": [
    "new_df['Grouped'] = new_df.groupby('Order ID')['Product'].transform(lambda x:','.join(x))\n",
    "new_df"
   ]
  },
  {
   "cell_type": "code",
   "execution_count": 311,
   "id": "1d0182cd-ed57-487a-92bd-c0112b0e960f",
   "metadata": {},
   "outputs": [],
   "source": [
    "new_df = new_df[['Order ID','Grouped']].drop_duplicates()"
   ]
  },
  {
   "cell_type": "code",
   "execution_count": 313,
   "id": "bfbe5dff-3e99-43a4-a29a-870f36811e9c",
   "metadata": {},
   "outputs": [
    {
     "data": {
      "text/html": [
       "<div>\n",
       "<style scoped>\n",
       "    .dataframe tbody tr th:only-of-type {\n",
       "        vertical-align: middle;\n",
       "    }\n",
       "\n",
       "    .dataframe tbody tr th {\n",
       "        vertical-align: top;\n",
       "    }\n",
       "\n",
       "    .dataframe thead th {\n",
       "        text-align: right;\n",
       "    }\n",
       "</style>\n",
       "<table border=\"1\" class=\"dataframe\">\n",
       "  <thead>\n",
       "    <tr style=\"text-align: right;\">\n",
       "      <th></th>\n",
       "      <th>Order ID</th>\n",
       "      <th>Grouped</th>\n",
       "    </tr>\n",
       "  </thead>\n",
       "  <tbody>\n",
       "    <tr>\n",
       "      <th>16</th>\n",
       "      <td>295681</td>\n",
       "      <td>Google Phone,USB-C Charging Cable,Bose SoundSp...</td>\n",
       "    </tr>\n",
       "    <tr>\n",
       "      <th>36</th>\n",
       "      <td>295698</td>\n",
       "      <td>Vareebadd Phone,USB-C Charging Cable</td>\n",
       "    </tr>\n",
       "    <tr>\n",
       "      <th>42</th>\n",
       "      <td>295703</td>\n",
       "      <td>AA Batteries (4-pack),Bose SoundSport Headphones</td>\n",
       "    </tr>\n",
       "    <tr>\n",
       "      <th>66</th>\n",
       "      <td>295726</td>\n",
       "      <td>iPhone,Lightning Charging Cable</td>\n",
       "    </tr>\n",
       "    <tr>\n",
       "      <th>76</th>\n",
       "      <td>295735</td>\n",
       "      <td>iPhone,Apple Airpods Headphones,Wired Headphones</td>\n",
       "    </tr>\n",
       "    <tr>\n",
       "      <th>...</th>\n",
       "      <td>...</td>\n",
       "      <td>...</td>\n",
       "    </tr>\n",
       "    <tr>\n",
       "      <th>186798</th>\n",
       "      <td>222863</td>\n",
       "      <td>27in FHD Monitor,Bose SoundSport Headphones</td>\n",
       "    </tr>\n",
       "    <tr>\n",
       "      <th>186804</th>\n",
       "      <td>222868</td>\n",
       "      <td>iPhone,Apple Airpods Headphones</td>\n",
       "    </tr>\n",
       "    <tr>\n",
       "      <th>186819</th>\n",
       "      <td>222882</td>\n",
       "      <td>Apple Airpods Headphones,AA Batteries (4-pack)</td>\n",
       "    </tr>\n",
       "    <tr>\n",
       "      <th>186822</th>\n",
       "      <td>222884</td>\n",
       "      <td>Google Phone,USB-C Charging Cable</td>\n",
       "    </tr>\n",
       "    <tr>\n",
       "      <th>186842</th>\n",
       "      <td>222903</td>\n",
       "      <td>iPhone,Lightning Charging Cable</td>\n",
       "    </tr>\n",
       "  </tbody>\n",
       "</table>\n",
       "<p>7136 rows × 2 columns</p>\n",
       "</div>"
      ],
      "text/plain": [
       "       Order ID                                            Grouped\n",
       "16       295681  Google Phone,USB-C Charging Cable,Bose SoundSp...\n",
       "36       295698               Vareebadd Phone,USB-C Charging Cable\n",
       "42       295703   AA Batteries (4-pack),Bose SoundSport Headphones\n",
       "66       295726                    iPhone,Lightning Charging Cable\n",
       "76       295735   iPhone,Apple Airpods Headphones,Wired Headphones\n",
       "...         ...                                                ...\n",
       "186798   222863        27in FHD Monitor,Bose SoundSport Headphones\n",
       "186804   222868                    iPhone,Apple Airpods Headphones\n",
       "186819   222882     Apple Airpods Headphones,AA Batteries (4-pack)\n",
       "186822   222884                  Google Phone,USB-C Charging Cable\n",
       "186842   222903                    iPhone,Lightning Charging Cable\n",
       "\n",
       "[7136 rows x 2 columns]"
      ]
     },
     "execution_count": 313,
     "metadata": {},
     "output_type": "execute_result"
    }
   ],
   "source": [
    "new_df"
   ]
  },
  {
   "cell_type": "code",
   "execution_count": 317,
   "id": "5d261528-d069-426d-8ff2-21ddbb100312",
   "metadata": {},
   "outputs": [
    {
     "name": "stdout",
     "output_type": "stream",
     "text": [
      "('iPhone', 'Lightning Charging Cable') 1005\n",
      "('Google Phone', 'USB-C Charging Cable') 987\n",
      "('iPhone', 'Wired Headphones') 447\n",
      "('Google Phone', 'Wired Headphones') 414\n",
      "('Vareebadd Phone', 'USB-C Charging Cable') 361\n",
      "('iPhone', 'Apple Airpods Headphones') 360\n",
      "('Google Phone', 'Bose SoundSport Headphones') 220\n",
      "('USB-C Charging Cable', 'Wired Headphones') 160\n",
      "('Vareebadd Phone', 'Wired Headphones') 143\n",
      "('Lightning Charging Cable', 'Wired Headphones') 92\n"
     ]
    }
   ],
   "source": [
    "#The code counts how frequently each pair of items occurs across all rows in the 'Grouped' column.\n",
    "\n",
    "from itertools import combinations\n",
    "from collections import Counter\n",
    "\n",
    "count = Counter()\n",
    "\n",
    "for row in new_df['Grouped']:\n",
    "    row_list = row.split(',')\n",
    "    count.update(Counter(combinations(row_list,2)))\n",
    "\n",
    "for key,value in count.most_common(10):\n",
    "    print(key,value)"
   ]
  },
  {
   "cell_type": "markdown",
   "id": "55542b38-6d76-40a7-9234-0a2e7407ed50",
   "metadata": {},
   "source": [
    "### What product is sold most?"
   ]
  },
  {
   "cell_type": "code",
   "execution_count": 325,
   "id": "0d1a6e71-e5cc-44c8-934b-6c8de7836c1f",
   "metadata": {},
   "outputs": [],
   "source": [
    "product_group = df.drop(['Order Date','Order ID','Purchase Address','City'],axis=1).groupby('Product')\n",
    "quantity = product_group.sum()['Quantity Ordered']"
   ]
  },
  {
   "cell_type": "code",
   "execution_count": 326,
   "id": "809aa598-62da-4eb2-8636-d221e2aba7b2",
   "metadata": {},
   "outputs": [
    {
     "data": {
      "text/plain": [
       "Product\n",
       "20in Monitor                   4129.0\n",
       "27in 4K Gaming Monitor         6244.0\n",
       "27in FHD Monitor               7550.0\n",
       "34in Ultrawide Monitor         6199.0\n",
       "AA Batteries (4-pack)         27635.0\n",
       "AAA Batteries (4-pack)        31017.0\n",
       "Apple Airpods Headphones      15661.0\n",
       "Bose SoundSport Headphones    13457.0\n",
       "Flatscreen TV                  4819.0\n",
       "Google Phone                   5532.0\n",
       "LG Dryer                        646.0\n",
       "LG Washing Machine              666.0\n",
       "Lightning Charging Cable      23217.0\n",
       "Macbook Pro Laptop             4728.0\n",
       "ThinkPad Laptop                4130.0\n",
       "USB-C Charging Cable          23975.0\n",
       "Vareebadd Phone                2068.0\n",
       "Wired Headphones              20557.0\n",
       "iPhone                         6849.0\n",
       "Name: Quantity Ordered, dtype: float64"
      ]
     },
     "execution_count": 326,
     "metadata": {},
     "output_type": "execute_result"
    }
   ],
   "source": [
    "quantity"
   ]
  },
  {
   "cell_type": "code",
   "execution_count": 332,
   "id": "153377ee-ccdc-4fc6-b030-06747f3e6f87",
   "metadata": {},
   "outputs": [
    {
     "data": {
      "image/png": "[encoded data removed]",
      "text/plain": [
       "<Figure size 1200x800 with 1 Axes>"
      ]
     },
     "metadata": {},
     "output_type": "display_data"
    }
   ],
   "source": [
    "plt.figure(figsize=(12,8))\n",
    "products = [product for product,df in product_group]\n",
    "plt.bar(products,quantity)\n",
    "plt.xticks(products,rotation=90)\n",
    "plt.xlabel('Products')\n",
    "plt.ylabel('Quantity Ordered')\n",
    "plt.show()"
   ]
  },
  {
   "cell_type": "code",
   "execution_count": 346,
   "id": "dfdf18ba-f66c-4dd7-b2d7-34ee7824c09c",
   "metadata": {},
   "outputs": [],
   "source": [
    "temp_df = df.copy()\n",
    "temp_df['Price Each'] = pd.to_numeric(temp_df['Price Each'],errors='coerce')"
   ]
  },
  {
   "cell_type": "code",
   "execution_count": 347,
   "id": "d241623b-97f5-4691-afcb-2e7f9fd86098",
   "metadata": {},
   "outputs": [
    {
     "data": {
      "text/plain": [
       "0"
      ]
     },
     "execution_count": 347,
     "metadata": {},
     "output_type": "execute_result"
    }
   ],
   "source": [
    "temp_df['Price Each'].isnull().sum()"
   ]
  },
  {
   "cell_type": "code",
   "execution_count": 352,
   "id": "1bce48a1-b7f7-45a0-bd6a-b4bbf7eeb715",
   "metadata": {},
   "outputs": [],
   "source": [
    "prices = temp_df.drop(['Order ID','City','Purchase Address'],axis=1).groupby('Product').mean()['Price Each']"
   ]
  },
  {
   "cell_type": "code",
   "execution_count": 353,
   "id": "fca43fcb-13e9-41c7-975d-b30247da188b",
   "metadata": {},
   "outputs": [
    {
     "data": {
      "text/plain": [
       "Product\n",
       "20in Monitor                   109.99\n",
       "27in 4K Gaming Monitor         389.99\n",
       "27in FHD Monitor               149.99\n",
       "34in Ultrawide Monitor         379.99\n",
       "AA Batteries (4-pack)            3.84\n",
       "AAA Batteries (4-pack)           2.99\n",
       "Apple Airpods Headphones       150.00\n",
       "Bose SoundSport Headphones      99.99\n",
       "Flatscreen TV                  300.00\n",
       "Google Phone                   600.00\n",
       "LG Dryer                       600.00\n",
       "LG Washing Machine             600.00\n",
       "Lightning Charging Cable        14.95\n",
       "Macbook Pro Laptop            1700.00\n",
       "ThinkPad Laptop                999.99\n",
       "USB-C Charging Cable            11.95\n",
       "Vareebadd Phone                400.00\n",
       "Wired Headphones                11.99\n",
       "iPhone                         700.00\n",
       "Name: Price Each, dtype: float64"
      ]
     },
     "execution_count": 353,
     "metadata": {},
     "output_type": "execute_result"
    }
   ],
   "source": [
    "prices"
   ]
  },
  {
   "cell_type": "code",
   "execution_count": 356,
   "id": "4641fa30-2c33-4190-87b7-1e8528564dc2",
   "metadata": {},
   "outputs": [
    {
     "data": {
      "image/png": "[encoded data removed]",
      "text/plain": [
       "<Figure size 640x480 with 2 Axes>"
      ]
     },
     "metadata": {},
     "output_type": "display_data"
    }
   ],
   "source": [
    "# Referenced: https://stackoverflow.com/questions/14762181/adding-a-y-axis-label-to-secondary-y-axis-in-matplotlib\n",
    "fig, ax1 = plt.subplots()\n",
    "\n",
    "ax2 = ax1.twinx()\n",
    "ax1.bar(products, quantity, color='g')\n",
    "ax2.plot(products, prices, color='b')\n",
    "\n",
    "ax1.set_xlabel('Product Name')\n",
    "ax1.set_ylabel('Quantity Ordered', color='g')\n",
    "ax2.set_ylabel('Price ($)', color='b')\n",
    "ax1.set_xticklabels(products, rotation='vertical', size=8)\n",
    "\n",
    "fig.show()"
   ]
  },
  {
   "cell_type": "markdown",
   "id": "e0aef89b-5414-425c-a8f4-5846edcb0251",
   "metadata": {},
   "source": [
    "<h1>Conclusion</h1>\n",
    "The sales analysis provided several key insights into the sales performance of electronic items:\n",
    "\n",
    "<strong>Best Month for Sales:</strong> December was the best month for sales, highlighting the impact of holiday shopping on revenue.<br>\n",
    "\n",
    "\n",
    "<strong>Top Selling City:</strong> San Francisco emerged as the city with the highest sales, indicating a strong market presence in this region.<br>\n",
    "\n",
    "\n",
    "<strong>Optimal Advertisement Timing:</strong> Advertisements displayed around 11 AM and 7 PM are likely to be most effective, aligning with peak customer activity times.<br>\n",
    "\n",
    "\n",
    "<strong>Frequently Sold Together Products:</strong> Products such as the iPhone paired with the Lightning Charging Cable and Google Phone with the USB-C Charging Cable were frequently purchased together, suggesting opportunities for bundling promotions.<br>\n",
    "\n",
    "\n",
    "<strong>Top Selling Products:</strong> The AAA Batteries (4-pack), AA Batteries (4-pack), and USB-C Charging Cable were the most sold items, likely due to their high demand and frequent need for replacement.<br>\n",
    "\n",
    "\n",
    "These findings provide actionable insights that can guide marketing strategies, improve inventory management, and optimize product bundling, ultimately enhancing overall sales performance."
   ]
  },
  {
   "cell_type": "code",
   "execution_count": null,
   "id": "cf93e7f7-c869-41a8-832c-e064d10ec8d7",
   "metadata": {},
   "outputs": [],
   "source": []
  }
 ],
 "metadata": {
  "kernelspec": {
   "display_name": "Python 3 (ipykernel)",
   "language": "python",
   "name": "python3"
  },
  "language_info": {
   "codemirror_mode": {
    "name": "ipython",
    "version": 3
   },
   "file_extension": ".py",
   "mimetype": "text/x-python",
   "name": "python",
   "nbconvert_exporter": "python",
   "pygments_lexer": "ipython3",
   "version": "3.11.5"
  }
 },
 "nbformat": 4,
 "nbformat_minor": 5
}
